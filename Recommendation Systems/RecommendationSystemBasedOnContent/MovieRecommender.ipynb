{
 "cells": [
  {
   "cell_type": "code",
   "execution_count": 1,
   "id": "2e6952d3-b4a5-49ff-8d07-dd98683ed56e",
   "metadata": {},
   "outputs": [],
   "source": [
    "import pandas as pd\n",
    "import numpy as np\n",
    "from sklearn.feature_extraction.text import TfidfVectorizer\n",
    "import nltk\n",
    "from nltk.corpus import stopwords\n",
    "from nltk.tokenize import word_tokenize\n",
    "from nltk.stem import WordNetLemmatizer\n",
    "import string\n",
    "from sklearn.metrics.pairwise import cosine_similarity\n",
    "import pickle"
   ]
  },
  {
   "cell_type": "code",
   "execution_count": 3,
   "id": "21476ef2-99cb-4f79-b87f-7ff16ae21464",
   "metadata": {},
   "outputs": [
    {
     "name": "stderr",
     "output_type": "stream",
     "text": [
      "[nltk_data] Downloading package punkt to\n",
      "[nltk_data]     C:\\Users\\enriq\\AppData\\Roaming\\nltk_data...\n",
      "[nltk_data]   Package punkt is already up-to-date!\n",
      "[nltk_data] Downloading package stopwords to\n",
      "[nltk_data]     C:\\Users\\enriq\\AppData\\Roaming\\nltk_data...\n",
      "[nltk_data]   Package stopwords is already up-to-date!\n",
      "[nltk_data] Downloading package wordnet to\n",
      "[nltk_data]     C:\\Users\\enriq\\AppData\\Roaming\\nltk_data...\n",
      "[nltk_data]   Package wordnet is already up-to-date!\n"
     ]
    }
   ],
   "source": [
    "# Cargar modelos de nltk\n",
    "nltk.download('punkt')\n",
    "nltk.download('stopwords')\n",
    "nltk.download('wordnet')\n",
    "lemmatizer = WordNetLemmatizer()\n",
    "stop_words = set(stopwords.words('english'))"
   ]
  },
  {
   "cell_type": "code",
   "execution_count": 7,
   "id": "68f114db-4c68-4e82-bb2e-ab3194ef39a3",
   "metadata": {},
   "outputs": [],
   "source": [
    "# Leer archivos de datos\n",
    "df_credits = pd.read_csv(\"tmdb_5000_credits.csv\")\n",
    "df_movies = pd.read_csv(\"tmdb_5000_movies.csv\")"
   ]
  },
  {
   "cell_type": "code",
   "execution_count": 9,
   "id": "b3463416-82df-4ab1-b179-f97c79c120df",
   "metadata": {},
   "outputs": [],
   "source": [
    "# Merge de los dos dataframes\n",
    "df_movies = df_movies.merge(df_credits, on='title')\n",
    "df_movies = df_movies[['movie_id', 'title', 'overview', 'genres', 'keywords', 'cast', 'crew']]\n",
    "\n",
    "# Rellenar valores faltantes\n",
    "for col in ['overview', 'genres', 'keywords', 'cast', 'crew']:\n",
    "    df_movies[col] = df_movies[col].fillna('')"
   ]
  },
  {
   "cell_type": "code",
   "execution_count": 11,
   "id": "9859f72f-d52c-4c28-a6d1-165e6ceb93bc",
   "metadata": {},
   "outputs": [],
   "source": [
    "# Procesar texto en las columnas\n",
    "def process_text(text):\n",
    "    # Tokenizar\n",
    "    tokens = word_tokenize(text.lower())\n",
    "    # Remover puntuación y stopwords\n",
    "    tokens = [word for word in tokens if word.isalpha() and word not in string.punctuation and word not in stop_words]\n",
    "    # Lematizar\n",
    "    tokens = [lemmatizer.lemmatize(word) for word in tokens]\n",
    "    return ' '.join(tokens)\n",
    "\n",
    "df_movies[\"movie_id\"] = df_movies[\"movie_id\"].astype(str)\n",
    "df_movies[\"title\"] = df_movies[\"title\"].astype(str)\n",
    "df_movies[\"overview\"] = df_movies[\"overview\"].astype(str).apply(process_text)\n",
    "df_movies[\"genres\"] = df_movies[\"genres\"].astype(str).apply(process_text)\n",
    "df_movies[\"keywords\"] = df_movies[\"keywords\"].astype(str).apply(process_text)\n",
    "df_movies[\"cast\"] = df_movies[\"cast\"].astype(str).apply(process_text)\n",
    "df_movies[\"crew\"] = df_movies[\"crew\"].astype(str).apply(process_text)"
   ]
  },
  {
   "cell_type": "code",
   "execution_count": 13,
   "id": "d5758ff2-b21f-4cd6-968e-9e53a243bb4f",
   "metadata": {},
   "outputs": [],
   "source": [
    "# Crear DataFrame final\n",
    "df_movies[\"tags\"] = df_movies[\"movie_id\"] +  df_movies[\"title\"] +  df_movies[\"overview\"] +  df_movies[\"genres\"]  + df_movies[\"keywords\"] + df_movies[\"cast\"] + df_movies[\"crew\"]\n",
    "df_final = df_movies.drop(columns=[\"overview\", \"genres\", \"keywords\", \"cast\", \"crew\"])\n",
    "\n",
    "# Crear TfIdfVectorizer con límites de características\n",
    "tfidf = TfidfVectorizer()\n",
    "vector = tfidf.fit_transform(df_final[\"tags\"]).toarray()\n",
    "\n",
    "# Calcular la similitud de coseno\n",
    "similarity = cosine_similarity(vector)"
   ]
  },
  {
   "cell_type": "code",
   "execution_count": 15,
   "id": "8227e0f7-6c1d-4576-98ac-617ee83281f8",
   "metadata": {},
   "outputs": [],
   "source": [
    "# Función de recomendación\n",
    "def recommend(movie):\n",
    "    index = df_final[df_final[\"title\"] == movie].index[0]\n",
    "    movies = list(enumerate(similarity[index]))\n",
    "    movies = sorted(movies, key=lambda x: x[1], reverse=True)[1:6]\n",
    "    for i in movies:\n",
    "        print(df_final[\"title\"].iloc[i[0]])"
   ]
  },
  {
   "cell_type": "code",
   "execution_count": 17,
   "id": "b3f390c0-2d4b-47b5-b99e-7547eb6aeb40",
   "metadata": {},
   "outputs": [
    {
     "name": "stdout",
     "output_type": "stream",
     "text": [
      "The Dark Knight Rises\n",
      "American Gangster\n",
      "Gone Girl\n",
      "Batman Begins\n",
      "Batman v Superman: Dawn of Justice\n"
     ]
    }
   ],
   "source": [
    "# Prueba la recomendación\n",
    "recommend(\"The Dark Knight\")"
   ]
  },
  {
   "cell_type": "code",
   "execution_count": 19,
   "id": "004cebe1-df16-4c78-a32a-a2d57a67c44d",
   "metadata": {},
   "outputs": [
    {
     "name": "stdout",
     "output_type": "stream",
     "text": [
      "Pirates of the Caribbean: Dead Man's Chest\n",
      "Pirates of the Caribbean: The Curse of the Black Pearl\n",
      "Pirates of the Caribbean: On Stranger Tides\n",
      "Contact\n",
      "American Pie 2\n"
     ]
    }
   ],
   "source": [
    "recommend(\"Pirates of the Caribbean: At World's End\")"
   ]
  },
  {
   "cell_type": "code",
   "execution_count": null,
   "id": "a1395765-d30c-4214-87c8-8081c29e9dc6",
   "metadata": {},
   "outputs": [],
   "source": []
  }
 ],
 "metadata": {
  "kernelspec": {
   "display_name": "Python 3 (ipykernel)",
   "language": "python",
   "name": "python3"
  },
  "language_info": {
   "codemirror_mode": {
    "name": "ipython",
    "version": 3
   },
   "file_extension": ".py",
   "mimetype": "text/x-python",
   "name": "python",
   "nbconvert_exporter": "python",
   "pygments_lexer": "ipython3",
   "version": "3.11.7"
  }
 },
 "nbformat": 4,
 "nbformat_minor": 5
}
